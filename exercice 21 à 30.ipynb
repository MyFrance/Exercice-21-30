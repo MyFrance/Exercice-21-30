{
 "cells": [
  {
   "cell_type": "markdown",
   "id": "e7f4ea30",
   "metadata": {},
   "source": [
    "# Exercice 21\n",
    "Nous allons écrire un programme qui calcule le prix TTC d’un produit connaissant son prix hors taxe et sa catégorie.\n",
    "Nous avons pour cela 3 catégories:\n",
    "    TVA = 7% pour les produits de la catégorie A\n",
    "    TVA = 20% pour les produits de la catégorie B\n",
    "    TVA = 25% pour les produits de la catégorie C\n",
    "    \n",
    "    \n"
   ]
  },
  {
   "cell_type": "code",
   "execution_count": 22,
   "id": "8d2572f2",
   "metadata": {
    "ExecuteTime": {
     "end_time": "2022-05-18T17:35:50.488225Z",
     "start_time": "2022-05-18T17:35:46.912496Z"
    }
   },
   "outputs": [
    {
     "name": "stdout",
     "output_type": "stream",
     "text": [
      "Prix = 15\n",
      "\n",
      "Categorie = C\n",
      "\n",
      " Cet article fait partie des produits de la catégorie C , son prix TTC est de  18.75 €\n"
     ]
    }
   ],
   "source": [
    "prix_HT = float(input(\"Prix = \"))\n",
    "#categorie = [\"A\", \"B\", \"C\"]\n",
    "categorie = input(\"\\nCategorie = \")\n",
    "TVA = [0.07, 0.2, 0.25]\n",
    "\n",
    "for i in categorie:\n",
    "    if i == \"A\":\n",
    "        prix = prix_HT + (prix_HT * TVA[0])\n",
    "    elif i == \"B\": \n",
    "        prix = prix_HT + (prix_HT * TVA[1])\n",
    "    elif i == \"C\": \n",
    "        prix = prix_HT + (prix_HT * TVA[-1])\n",
    "        print(\"\\n Cet article fait partie des produits de la catégorie\", categorie,\",\",\"son prix TTC est de \", format(prix, \".2f\"),\"€\")\n",
    "    else: \n",
    "        print(\"\\nCette catégorie n'existe pas\")"
   ]
  },
  {
   "cell_type": "markdown",
   "id": "968ff60e",
   "metadata": {},
   "source": [
    "# Exercice 22\n",
    "Nous allons trier une liste de tuple\n",
    "liste = [(\"Harry Potter\", 5), (\"Wall-E\", 3), (\"Blade Runner\", 4)]"
   ]
  },
  {
   "cell_type": "code",
   "execution_count": 43,
   "id": "2c7d32d7",
   "metadata": {
    "ExecuteTime": {
     "end_time": "2022-05-18T17:57:17.342694Z",
     "start_time": "2022-05-18T17:57:17.328708Z"
    }
   },
   "outputs": [
    {
     "name": "stdout",
     "output_type": "stream",
     "text": [
      "[('Wall-E', 3), ('Blade Runner', 4), ('Harry Potter', 5)]\n"
     ]
    }
   ],
   "source": [
    "liste = [(\"Harry Potter\", 5), (\"Wall-E\", 3), (\"Blade Runner\", 4)]\n",
    "liste.sort(key = lambda x : x[1])\n",
    "print(liste)"
   ]
  },
  {
   "cell_type": "markdown",
   "id": "2e1749b3",
   "metadata": {},
   "source": [
    "# Exercice 23\n",
    "Nous allons écrire un programme qui demande deux nombres entiers et l’une des opérateurs suivant : + , - , * , / puis effectue l’opération correspond et affiche le résultat de cette opération."
   ]
  },
  {
   "cell_type": "code",
   "execution_count": 33,
   "id": "e1bea154",
   "metadata": {
    "ExecuteTime": {
     "end_time": "2022-05-18T20:02:34.108334Z",
     "start_time": "2022-05-18T20:02:28.510043Z"
    }
   },
   "outputs": [
    {
     "name": "stdout",
     "output_type": "stream",
     "text": [
      "N1 = 7\n",
      "operande =  /\n",
      "N2 = 9\n",
      "\n",
      "Le résultat de la division est 0.78\n"
     ]
    }
   ],
   "source": [
    "N1 = float(input(\"N1 = \"))\n",
    "\n",
    "# operandes = (\"+\", \"-\", \"*\", \"/\")\n",
    "selection_operande = str(input(\"operande =  \"))\n",
    "\n",
    "N2 = float(input(\"N2 = \"))\n",
    "\n",
    "for i in selection_operande: \n",
    "    if i ==  \"+\":\n",
    "        addition = N1 + N2\n",
    "        print(\"\\nLe résultat de l'addition est\", format(addition, \".2f\"))\n",
    "        \n",
    "    elif i == \"-\":\n",
    "        soustraction = N1 - N2\n",
    "        print(\"\\nLe résultat de la soustraction est\", format(soustraction, \".2f\"))\n",
    "        \n",
    "    elif i== \"*\":\n",
    "        multiplication= N1 * N2\n",
    "        print(\"\\nLe résultat de la multiplication est\", format(multiplication, \".2f\"))\n",
    "        \n",
    "    elif i ==\"/\": \n",
    "        if N2 != 0:\n",
    "            division = N1/N2\n",
    "            print(\"\\nLe résultat de la division est\", format(division, \".2f\"))\n",
    "            \n",
    "        else:\n",
    "            print(\"Impossoble de faire la division car le dénominateur est égale à 0\")\n",
    "            \n",
    "    else:\n",
    "        print(\"\\nPas d'operandes\")"
   ]
  },
  {
   "cell_type": "markdown",
   "id": "d389f95d",
   "metadata": {},
   "source": [
    "# Exercice 24\n",
    "Nous allons récupérer la valeur de la clé prenom, la réponse est \"pierre\""
   ]
  },
  {
   "cell_type": "code",
   "execution_count": 34,
   "id": "bface861",
   "metadata": {
    "ExecuteTime": {
     "end_time": "2022-05-18T20:08:13.883628Z",
     "start_time": "2022-05-18T20:08:13.864678Z"
    }
   },
   "outputs": [
    {
     "data": {
      "text/plain": [
       "'Pierre'"
      ]
     },
     "execution_count": 34,
     "metadata": {},
     "output_type": "execute_result"
    }
   ],
   "source": [
    "employes = {\"01\": {\"identite\": {\"prenom\": \"Pierre\", \"nom\": \"Dupont\"}}}\n",
    "employes.get(\"01\", {}).get(\"identite\", {}).get(\"prenom\", {\"la clé valeur de prenom\"})"
   ]
  },
  {
   "cell_type": "markdown",
   "id": "b53ec18e",
   "metadata": {},
   "source": [
    "# Exercice 25\n",
    "\n",
    "Nous allons écrire un programme qui demande à l’utilisateur de saisir un nombre puis qui en fonction du nombre saisi :\n",
    "\n",
    "– 6 : affiche « le personnage va à droite ».\n",
    "\n",
    "– 4 : affiche « le personnage va à gauche ».\n",
    "\n",
    "– 8 : affiche « le personnage va en haut ».\n",
    "\n",
    "– 2 : affiche « le personnage va en bas ».\n",
    "\n",
    "– dans le cas d’un autre caractère, affiche : « erreur de saisie, le personnage ne bouge pas ».\n"
   ]
  },
  {
   "cell_type": "code",
   "execution_count": 38,
   "id": "d7c2ff24",
   "metadata": {
    "ExecuteTime": {
     "end_time": "2022-05-19T13:42:44.609735Z",
     "start_time": "2022-05-19T13:42:41.775267Z"
    }
   },
   "outputs": [
    {
     "name": "stdout",
     "output_type": "stream",
     "text": [
      "saisissez un nombre parmis les nombres suivants 6,4,8,2: Saisie = 15\n",
      "\n",
      "Erreur de saisie, le personnage ne bouge pas\n"
     ]
    }
   ],
   "source": [
    "nombre = int(input(\"saisissez un nombre parmis les nombres suivants 6,4,8,2: Saisie = \"))\n",
    "\n",
    "if nombre == 6:\n",
    "    print(\"\\nLe personnage va à droite\")\n",
    "elif nombre == 4:\n",
    "    print(\"\\nLe personnage va à gauche\")\n",
    "elif nombre == 8:\n",
    "    print(\"\\nLe personnage va en haut \")\n",
    "elif nombre == 2:\n",
    "    print(\"\\nLe personnage va en bas\")\n",
    "else:\n",
    "    print(\"\\nErreur de saisie, le personnage ne bouge pas\")"
   ]
  },
  {
   "cell_type": "markdown",
   "id": "adb39dae",
   "metadata": {},
   "source": [
    "# Exercice 26\n",
    "employes = {\"Pierre\": 2500, \"Marie\": 5000, \"Julien\": 1200}\n",
    "additionner toutes les valeurs du dictionnaire la réponse est de 8700"
   ]
  },
  {
   "cell_type": "code",
   "execution_count": 40,
   "id": "74cf8322",
   "metadata": {
    "ExecuteTime": {
     "end_time": "2022-05-19T14:13:30.324970Z",
     "start_time": "2022-05-19T14:13:30.311540Z"
    }
   },
   "outputs": [
    {
     "data": {
      "text/plain": [
       "8700"
      ]
     },
     "execution_count": 40,
     "metadata": {},
     "output_type": "execute_result"
    }
   ],
   "source": [
    "employes = {\"Pierre\": 2500, \"Marie\": 5000, \"Julien\": 1200}\n",
    "addition = sum(employes.values())\n",
    "addition"
   ]
  },
  {
   "cell_type": "markdown",
   "id": "30078e43",
   "metadata": {},
   "source": [
    "# Exercice 27\n",
    "Nous allons écrire un programme qui vérifie si un nombre est pair ou impair."
   ]
  },
  {
   "cell_type": "code",
   "execution_count": 45,
   "id": "0ee583cb",
   "metadata": {
    "ExecuteTime": {
     "end_time": "2022-05-19T14:39:20.461786Z",
     "start_time": "2022-05-19T14:39:17.034777Z"
    }
   },
   "outputs": [
    {
     "name": "stdout",
     "output_type": "stream",
     "text": [
      "Nombre = 119\n",
      "\n",
      "Nombre impair\n"
     ]
    }
   ],
   "source": [
    "nombre = float(input(\"Nombre = \"))\n",
    "\n",
    "if nombre % 2  == 0: \n",
    "    print(\"\\nNombre pair\")\n",
    "else:\n",
    "    print(\"\\nNombre impair\")"
   ]
  },
  {
   "cell_type": "markdown",
   "id": "a748bab1",
   "metadata": {},
   "source": [
    "# Exercice 28\n",
    "Corriger l'erreur dans le script\n",
    "import random\n",
    "\n",
    "nombre_aleatoire = randint(0, 5)\n",
    "\n",
    "print(nombre_aleatoire)"
   ]
  },
  {
   "cell_type": "code",
   "execution_count": 49,
   "id": "6dcc3303",
   "metadata": {
    "ExecuteTime": {
     "end_time": "2022-05-19T14:51:05.045251Z",
     "start_time": "2022-05-19T14:51:05.036277Z"
    }
   },
   "outputs": [
    {
     "name": "stdout",
     "output_type": "stream",
     "text": [
      "4\n"
     ]
    }
   ],
   "source": [
    "import random\n",
    "\n",
    "nombre_aleatoire = random.randint(0, 5)\n",
    "print(nombre_aleatoire)"
   ]
  },
  {
   "cell_type": "markdown",
   "id": "66e1b406",
   "metadata": {},
   "source": [
    "# Exercice 29\n",
    "## Méthode 1\n",
    "Nous allons écrire un programme qui demande à l'utilisateur de saisir une année et qui vérifie s'elle est bissextile (366 jours) ou non."
   ]
  },
  {
   "cell_type": "code",
   "execution_count": 51,
   "id": "8dc6756a",
   "metadata": {
    "ExecuteTime": {
     "end_time": "2022-05-19T16:50:24.622324Z",
     "start_time": "2022-05-19T16:50:22.073357Z"
    }
   },
   "outputs": [
    {
     "name": "stdout",
     "output_type": "stream",
     "text": [
      "Année = 366\n",
      "\n",
      "Année bissextile\n"
     ]
    }
   ],
   "source": [
    "# Ici on va travailler sur le nombre de jour dans une année\n",
    "# si le nombre de jour est de 366 alors on a une année bissextile\n",
    "\n",
    "nb_jour_annuel = int(input(\"Rentrez le nombre de jour que contient l'année = \"))\n",
    "\n",
    "if nb_jour_annuel == 366:\n",
    "    print(\"\\nAnnée bissextile\")\n",
    "else:\n",
    "    print(\"\\nAnnée normale\")"
   ]
  },
  {
   "cell_type": "markdown",
   "id": "89892d34",
   "metadata": {},
   "source": [
    "## Méthode 2"
   ]
  },
  {
   "cell_type": "code",
   "execution_count": 9,
   "id": "52b6569e",
   "metadata": {
    "ExecuteTime": {
     "end_time": "2022-05-19T19:43:20.377731Z",
     "start_time": "2022-05-19T19:43:17.924056Z"
    }
   },
   "outputs": [
    {
     "name": "stdout",
     "output_type": "stream",
     "text": [
      "year = 2020\n"
     ]
    },
    {
     "data": {
      "text/plain": [
       "True"
      ]
     },
     "execution_count": 9,
     "metadata": {},
     "output_type": "execute_result"
    }
   ],
   "source": [
    "import calendar \n",
    "\n",
    "# Pour trouver si l'année est bissextile, on utilise la fonction isleap()\n",
    "# Elle renvoie true pour une année bissextile et False pour une année non bissextile\n",
    "\n",
    "year = int(input(\"year = \"))\n",
    "calendar.isleap(year)\n",
    "\n"
   ]
  },
  {
   "cell_type": "markdown",
   "id": "7b7f6c44",
   "metadata": {},
   "source": [
    "## Méthode 3\n",
    "une année est bissextille si elle est divisée par 4 donne 0 et par 100 différent de 0"
   ]
  },
  {
   "cell_type": "code",
   "execution_count": 5,
   "id": "808847f4",
   "metadata": {
    "ExecuteTime": {
     "end_time": "2022-05-20T05:51:40.734178Z",
     "start_time": "2022-05-20T05:51:37.384074Z"
    }
   },
   "outputs": [
    {
     "name": "stdout",
     "output_type": "stream",
     "text": [
      "Année = 2021\n",
      "\n",
      "L'année 2021 n'est pas une année bissextile \n"
     ]
    }
   ],
   "source": [
    "annee = int(input(\"Année = \"))\n",
    "if annee % 4 ==0 and annee %100 != 0:\n",
    "    print(\"\\nL'année\",annee, \"est une année bissextile\")\n",
    "else: \n",
    "    print(\"\\nL'année\",annee, \"n'est pas une année bissextile \")"
   ]
  },
  {
   "cell_type": "markdown",
   "id": "04066890",
   "metadata": {},
   "source": [
    "# Exercice 20\n",
    "\n",
    "Trouver l'erreur dans le code suivant\n",
    "\n",
    "liste = [1, 1, 4, 3, 3, 2, 6, 7, 7, 9, 2]\n",
    "\n",
    "resultat = [i*(i+1%(i*5) for i in sorted(list(set(liste))]\n",
    "\n",
    "                                         \n",
    "print(resultat)"
   ]
  },
  {
   "cell_type": "code",
   "execution_count": 10,
   "id": "cf0763dd",
   "metadata": {
    "ExecuteTime": {
     "end_time": "2022-05-20T08:10:29.971079Z",
     "start_time": "2022-05-20T08:10:29.959110Z"
    }
   },
   "outputs": [
    {
     "name": "stdout",
     "output_type": "stream",
     "text": [
      "[2, 6, 12, 20, 42, 56, 90]\n"
     ]
    }
   ],
   "source": [
    "Liste = [1, 1, 4, 3, 3, 2, 6, 7, 7, 9, 2]\n",
    "resultat = [i*(i+1%(i*5)) for i in sorted(list(set(Liste)))]\n",
    "print(resultat)"
   ]
  },
  {
   "cell_type": "code",
   "execution_count": null,
   "id": "8892b7c8",
   "metadata": {},
   "outputs": [],
   "source": []
  }
 ],
 "metadata": {
  "kernelspec": {
   "display_name": "Python 3",
   "language": "python",
   "name": "python3"
  },
  "language_info": {
   "codemirror_mode": {
    "name": "ipython",
    "version": 3
   },
   "file_extension": ".py",
   "mimetype": "text/x-python",
   "name": "python",
   "nbconvert_exporter": "python",
   "pygments_lexer": "ipython3",
   "version": "3.8.8"
  },
  "toc": {
   "base_numbering": 1,
   "nav_menu": {},
   "number_sections": true,
   "sideBar": true,
   "skip_h1_title": false,
   "title_cell": "Table of Contents",
   "title_sidebar": "Contents",
   "toc_cell": false,
   "toc_position": {},
   "toc_section_display": true,
   "toc_window_display": false
  }
 },
 "nbformat": 4,
 "nbformat_minor": 5
}
